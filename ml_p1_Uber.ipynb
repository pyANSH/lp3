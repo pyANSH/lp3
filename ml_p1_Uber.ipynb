{
  "nbformat": 4,
  "nbformat_minor": 0,
  "metadata": {
    "colab": {
      "provenance": [],
      "authorship_tag": "ABX9TyMOLW9H/WTXATB9pZNW+iFj",
      "include_colab_link": true
    },
    "kernelspec": {
      "name": "python3",
      "display_name": "Python 3"
    },
    "language_info": {
      "name": "python"
    }
  },
  "cells": [
    {
      "cell_type": "markdown",
      "metadata": {
        "id": "view-in-github",
        "colab_type": "text"
      },
      "source": [
        "<a href=\"https://colab.research.google.com/github/pyANSH/lp4/blob/main/ml_p1_Uber.ipynb\" target=\"_parent\"><img src=\"https://colab.research.google.com/assets/colab-badge.svg\" alt=\"Open In Colab\"/></a>"
      ]
    },
    {
      "cell_type": "code",
      "execution_count": 1,
      "metadata": {
        "id": "tva53MHFw3fR"
      },
      "outputs": [],
      "source": [
        "import pandas as pd\n",
        "\n",
        "dt = pd.read_csv('https://raw.githubusercontent.com/pyANSH/lp4/main/dataset/uber.csv')"
      ]
    },
    {
      "cell_type": "code",
      "source": [
        "dt.info()"
      ],
      "metadata": {
        "id": "hAvP0e00z_1a"
      },
      "execution_count": null,
      "outputs": []
    },
    {
      "cell_type": "code",
      "source": [
        "dt.isna().sum()"
      ],
      "metadata": {
        "id": "1crty1Sd0_Ut"
      },
      "execution_count": null,
      "outputs": []
    },
    {
      "cell_type": "code",
      "source": [
        "dt = dt.drop(columns=['Unnamed: 0','key'])"
      ],
      "metadata": {
        "id": "olG53nYc1VAA"
      },
      "execution_count": 4,
      "outputs": []
    },
    {
      "cell_type": "code",
      "source": [
        "dt['pickup_datetime'] = pd.to_datetime(dt['pickup_datetime'])"
      ],
      "metadata": {
        "id": "ZC9tAYIR1dPR"
      },
      "execution_count": 5,
      "outputs": []
    },
    {
      "cell_type": "code",
      "source": [
        "dt['date'] = dt['pickup_datetime'].dt.date"
      ],
      "metadata": {
        "id": "YRMMreJ13JzA"
      },
      "execution_count": 6,
      "outputs": []
    },
    {
      "cell_type": "code",
      "source": [
        "dt['time'] = dt['pickup_datetime'].dt.time"
      ],
      "metadata": {
        "id": "QP5Y0hLB3UXg"
      },
      "execution_count": 7,
      "outputs": []
    },
    {
      "cell_type": "code",
      "source": [
        "dt = dt.drop(columns=['pickup_datetime'])"
      ],
      "metadata": {
        "id": "SsG3Kzc53bQe"
      },
      "execution_count": 8,
      "outputs": []
    },
    {
      "cell_type": "code",
      "source": [
        "dt = dt.dropna()"
      ],
      "metadata": {
        "id": "ZpHKooZ_3f2I"
      },
      "execution_count": 9,
      "outputs": []
    },
    {
      "cell_type": "code",
      "source": [
        "dt.isnull().sum()"
      ],
      "metadata": {
        "colab": {
          "base_uri": "https://localhost:8080/"
        },
        "id": "jvvRBTvu3kAw",
        "outputId": "09dcea00-1972-4903-cfc5-d868e4400316"
      },
      "execution_count": 10,
      "outputs": [
        {
          "output_type": "execute_result",
          "data": {
            "text/plain": [
              "fare_amount          0\n",
              "pickup_longitude     0\n",
              "pickup_latitude      0\n",
              "dropoff_longitude    0\n",
              "dropoff_latitude     0\n",
              "passenger_count      0\n",
              "date                 0\n",
              "time                 0\n",
              "dtype: int64"
            ]
          },
          "metadata": {},
          "execution_count": 10
        }
      ]
    },
    {
      "cell_type": "code",
      "source": [
        "dt['hour'] = dt['time'].apply(lambda x: int(str(x).split(':')[0])) "
      ],
      "metadata": {
        "id": "hNfDbamC3nbg"
      },
      "execution_count": 11,
      "outputs": []
    },
    {
      "cell_type": "markdown",
      "source": [
        "## Regression"
      ],
      "metadata": {
        "id": "01V19RV33swH"
      }
    },
    {
      "cell_type": "code",
      "source": [
        "X = dt.drop(columns=['fare_amount','date','time'])\n",
        "y = dt['fare_amount']"
      ],
      "metadata": {
        "id": "mIWnwlwp3sNZ"
      },
      "execution_count": 12,
      "outputs": []
    },
    {
      "cell_type": "code",
      "source": [
        "from sklearn.model_selection import train_test_split\n",
        "from sklearn.linear_model import LinearRegression\n",
        "X_train,X_test,y_train,y_test = train_test_split(X,y,test_size=0.2)"
      ],
      "metadata": {
        "id": "eyiasQc-3zuJ"
      },
      "execution_count": 13,
      "outputs": []
    },
    {
      "cell_type": "code",
      "source": [
        "regr = LinearRegression()\n",
        "regr.fit(X_train,y_train)\n",
        "y_pred=regr.predict(X_test)"
      ],
      "metadata": {
        "id": "_UYRcXph39iT"
      },
      "execution_count": 14,
      "outputs": []
    },
    {
      "cell_type": "code",
      "source": [
        "from sklearn.metrics import mean_squared_error\n",
        "MSE=mean_squared_error(y_pred,y_test)"
      ],
      "metadata": {
        "id": "hWUabv614AJa"
      },
      "execution_count": 15,
      "outputs": []
    }
  ]
}