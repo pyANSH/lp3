{
  "nbformat": 4,
  "nbformat_minor": 0,
  "metadata": {
    "colab": {
      "provenance": [],
      "authorship_tag": "ABX9TyNDV5lOHCnr7COleSRRUp+i",
      "include_colab_link": true
    },
    "kernelspec": {
      "name": "python3",
      "display_name": "Python 3"
    },
    "language_info": {
      "name": "python"
    }
  },
  "cells": [
    {
      "cell_type": "markdown",
      "metadata": {
        "id": "view-in-github",
        "colab_type": "text"
      },
      "source": [
        "<a href=\"https://colab.research.google.com/github/pyANSH/lp4/blob/main/daa_p1_fib.ipynb\" target=\"_parent\"><img src=\"https://colab.research.google.com/assets/colab-badge.svg\" alt=\"Open In Colab\"/></a>"
      ]
    },
    {
      "cell_type": "code",
      "execution_count": null,
      "metadata": {
        "id": "FHV7cd2np9hJ"
      },
      "outputs": [],
      "source": [
        "# Write a program non-recursive and recursive program \n",
        "# to calculate Fibonacci numbers and\n",
        "# analyze their time and space complexity.\n",
        "# Write a program non-recursive and recursive program \n",
        "# to calculate Fibonacci numbers and\n",
        "# analyze their time and space complexity.\n"
      ]
    },
    {
      "cell_type": "code",
      "source": [
        "# recursive\n",
        "arr=[]\n",
        "def fib(n):\n",
        "  if n<=1:\n",
        "    return n\n",
        "  return fib(n-1)+fib(n-2)\n",
        "\n",
        "def cal_fib(n):\n",
        "  for i in range(0,n):\n",
        "    arr.append(fib(i))\n",
        "\n",
        "cal_fib(9)\n",
        "\n",
        "print(arr)"
      ],
      "metadata": {
        "colab": {
          "base_uri": "https://localhost:8080/"
        },
        "id": "LpjvE2w3qVv1",
        "outputId": "b74a519a-159a-4d66-c629-cd25b8e3290e"
      },
      "execution_count": 6,
      "outputs": [
        {
          "output_type": "stream",
          "name": "stdout",
          "text": [
            "[0, 1, 1, 2, 3, 5, 8, 13, 21]\n"
          ]
        }
      ]
    },
    {
      "cell_type": "code",
      "source": [
        "# iterative\n",
        "def fib(n):\n",
        "  arr = [0,1]\n",
        "  a,b = 0,1\n",
        "  for i in range(0,n):\n",
        "    arr.append(a+b)\n",
        "    a+=1\n",
        "    b+=1\n",
        "  return arr\n",
        "\n",
        "fib(9)\n"
      ],
      "metadata": {
        "colab": {
          "base_uri": "https://localhost:8080/"
        },
        "id": "U8Yd79uUrvSf",
        "outputId": "32eefd44-dae1-4811-db22-c1deacac95cb"
      },
      "execution_count": 8,
      "outputs": [
        {
          "output_type": "execute_result",
          "data": {
            "text/plain": [
              "[0, 1, 1, 3, 5, 7, 9, 11, 13, 15, 17]"
            ]
          },
          "metadata": {},
          "execution_count": 8
        }
      ]
    }
  ]
}