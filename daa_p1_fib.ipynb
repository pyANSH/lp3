{
  "nbformat": 4,
  "nbformat_minor": 0,
  "metadata": {
    "colab": {
      "provenance": [],
      "authorship_tag": "ABX9TyPm4fTLa2fJ2kN0ZyyWdTy8",
      "include_colab_link": true
    },
    "kernelspec": {
      "name": "python3",
      "display_name": "Python 3"
    },
    "language_info": {
      "name": "python"
    }
  },
  "cells": [
    {
      "cell_type": "markdown",
      "metadata": {
        "id": "view-in-github",
        "colab_type": "text"
      },
      "source": [
        "<a href=\"https://colab.research.google.com/github/pyANSH/lp3/blob/main/daa_p1_fib.ipynb\" target=\"_parent\"><img src=\"https://colab.research.google.com/assets/colab-badge.svg\" alt=\"Open In Colab\"/></a>"
      ]
    },
    {
      "cell_type": "code",
      "execution_count": null,
      "metadata": {
        "id": "FHV7cd2np9hJ"
      },
      "outputs": [],
      "source": [
        "# Write a program non-recursive and recursive program \n",
        "# to calculate Fibonacci numbers and\n",
        "# analyze their time and space complexity.\n",
        "# Write a program non-recursive and recursive program \n",
        "# to calculate Fibonacci numbers and\n",
        "# analyze their time and space complexity.\n"
      ]
    },
    {
      "cell_type": "code",
      "source": [
        "# recursive\n",
        "arr=[]\n",
        "def fib(n):\n",
        "  if n<=1:\n",
        "    return n\n",
        "  return fib(n-1)+fib(n-2)\n",
        "\n",
        "def cal_fib(n):\n",
        "  for i in range(0,n):\n",
        "    arr.append(fib(i))\n",
        "\n",
        "cal_fib(9)\n",
        "\n",
        "print(arr)"
      ],
      "metadata": {
        "colab": {
          "base_uri": "https://localhost:8080/"
        },
        "id": "LpjvE2w3qVv1",
        "outputId": "b74a519a-159a-4d66-c629-cd25b8e3290e"
      },
      "execution_count": null,
      "outputs": [
        {
          "output_type": "stream",
          "name": "stdout",
          "text": [
            "[0, 1, 1, 2, 3, 5, 8, 13, 21]\n"
          ]
        }
      ]
    },
    {
      "cell_type": "code",
      "source": [
        "# iterative\n",
        "def fib(n):\n",
        "  arr=[0,1]\n",
        "  for i in range(2,n):\n",
        "      arr.append(arr[i-1]+arr[i-2])\n",
        "  return arr\n",
        "\n",
        "fib(9)\n"
      ],
      "metadata": {
        "colab": {
          "base_uri": "https://localhost:8080/"
        },
        "id": "U8Yd79uUrvSf",
        "outputId": "ca620b5e-4502-4938-dd6d-6ba914901383"
      },
      "execution_count": 1,
      "outputs": [
        {
          "output_type": "execute_result",
          "data": {
            "text/plain": [
              "[0, 1, 1, 2, 3, 5, 8, 13, 21]"
            ]
          },
          "metadata": {},
          "execution_count": 1
        }
      ]
    }
  ]
}