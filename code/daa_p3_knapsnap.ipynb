{
  "nbformat": 4,
  "nbformat_minor": 0,
  "metadata": {
    "colab": {
      "provenance": [],
      "include_colab_link": true
    },
    "kernelspec": {
      "name": "python3",
      "display_name": "Python 3"
    },
    "language_info": {
      "name": "python"
    }
  },
  "cells": [
    {
      "cell_type": "markdown",
      "metadata": {
        "id": "view-in-github",
        "colab_type": "text"
      },
      "source": [
        "<a href=\"https://colab.research.google.com/github/pyANSH/lp3/blob/main/daa_p3_knapsnap.ipynb\" target=\"_parent\"><img src=\"https://colab.research.google.com/assets/colab-badge.svg\" alt=\"Open In Colab\"/></a>"
      ]
    },
    {
      "cell_type": "code",
      "execution_count": null,
      "metadata": {
        "id": "-ArIpaTNs4_d"
      },
      "outputs": [],
      "source": [
        "# Write a program to solve a fractional Knapsack \n",
        "# problem using a greedy method."
      ]
    },
    {
      "cell_type": "code",
      "source": [
        "class Item:\n",
        "  def __init__(self,value,weight):\n",
        "    self.value = value\n",
        "    self.weight = weight\n",
        "\n",
        "\n",
        "def knap(arr,w):\n",
        "  arr.sort(key=lambda x:x.value/x.weight, reverse=True)\n",
        "  finalValue = 0.0\n",
        "  for i in arr:\n",
        "    if (i.weight<=w):\n",
        "      w-=i.weight\n",
        "      finalValue+= i.value\n",
        "    else:\n",
        "      finalValue += (w/i.weight)*i.value\n",
        "      break\n",
        "  return finalValue\n",
        "\n",
        "\n",
        "\n",
        "if __name__ == '__main__':\n",
        "  w = 50\n",
        "  arr = [Item(60,10),Item(100,20),Item(120,30)]\n",
        "  knap1 =  knap(arr,w)\n",
        "  print(knap1)"
      ],
      "metadata": {
        "colab": {
          "base_uri": "https://localhost:8080/"
        },
        "id": "6tB4vUF6tB_Q",
        "outputId": "12be7b2f-81de-4892-b60f-5c614ff95d7f"
      },
      "execution_count": 4,
      "outputs": [
        {
          "output_type": "stream",
          "name": "stdout",
          "text": [
            "240.0\n"
          ]
        }
      ]
    },
    {
      "cell_type": "code",
      "source": [],
      "metadata": {
        "id": "khrBmL15wFP3"
      },
      "execution_count": null,
      "outputs": []
    }
  ]
}