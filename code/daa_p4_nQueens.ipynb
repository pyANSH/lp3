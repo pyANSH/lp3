{
  "nbformat": 4,
  "nbformat_minor": 0,
  "metadata": {
    "colab": {
      "provenance": [],
      "authorship_tag": "ABX9TyPBlcdXmwVbb16VEQHe8+Bx",
      "include_colab_link": true
    },
    "kernelspec": {
      "name": "python3",
      "display_name": "Python 3"
    },
    "language_info": {
      "name": "python"
    }
  },
  "cells": [
    {
      "cell_type": "markdown",
      "metadata": {
        "id": "view-in-github",
        "colab_type": "text"
      },
      "source": [
        "<a href=\"https://colab.research.google.com/github/pyANSH/lp3/blob/main/daa_p4_nQueens.ipynb\" target=\"_parent\"><img src=\"https://colab.research.google.com/assets/colab-badge.svg\" alt=\"Open In Colab\"/></a>"
      ]
    },
    {
      "cell_type": "code",
      "execution_count": null,
      "metadata": {
        "id": "ZyZqLDQY_EoM"
      },
      "outputs": [],
      "source": [
        "# Design n-Queens matrix having first Queen placed. \n",
        "# Use backtracking to place remaining Queens to \n",
        "# generate the final n-queen‘s matrix."
      ]
    },
    {
      "cell_type": "code",
      "source": [
        "global N\n",
        "N = 5\n",
        "def isSafe(board, row, col):\n",
        "    for i in range(col):\n",
        "        if board[row][i] == 1:\n",
        "            return False\n",
        "    for i, j in zip(range(row, -1, -1), range(col, -1, -1)):\n",
        "        if board[i][j] == 1:\n",
        "            return False\n",
        "    for i, j in zip(range(row, N, 1), range(col, -1, -1)):\n",
        "        if board[i][j] == 1:\n",
        "            return False \n",
        "    return True\n",
        " \n",
        "def solveNQUtil(board, col):\n",
        "    if col >= N:\n",
        "        return True\n",
        "    for i in range(N):\n",
        "        if isSafe(board, i, col):\n",
        "            board[i][col] = 1\n",
        "            if solveNQUtil(board, col + 1) == True:\n",
        "                return True\n",
        "            board[i][col] = 0\n",
        "    return False\n",
        "\n",
        "def solveNQ():\n",
        "    board = [ [0, 0, 0, 0,0],\n",
        "              [0, 0, 0, 0,0],\n",
        "              [0, 0, 0, 0,0],\n",
        "              [0, 0, 0, 0,0],\n",
        "              [0, 0, 0, 0,0],\n",
        "             ]\n",
        " \n",
        "    if solveNQUtil(board, 0) == False:\n",
        "        print (\"Solution does not exist\")\n",
        "        return False\n",
        " \n",
        "    printSolution(board)\n",
        "    return True\n",
        "\n",
        "solveNQ()"
      ],
      "metadata": {
        "colab": {
          "base_uri": "https://localhost:8080/"
        },
        "id": "fRTWBjsj_JwQ",
        "outputId": "bc66af1e-8608-4a54-c375-511267b0d56a"
      },
      "execution_count": 4,
      "outputs": [
        {
          "output_type": "stream",
          "name": "stdout",
          "text": [
            "1 0 0 0 0 \n",
            "0 0 0 1 0 \n",
            "0 1 0 0 0 \n",
            "0 0 0 0 1 \n",
            "0 0 1 0 0 \n"
          ]
        },
        {
          "output_type": "execute_result",
          "data": {
            "text/plain": [
              "True"
            ]
          },
          "metadata": {},
          "execution_count": 4
        }
      ]
    }
  ]
}